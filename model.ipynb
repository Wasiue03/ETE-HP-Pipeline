{
 "cells": [
  {
   "cell_type": "code",
   "execution_count": 12,
   "id": "72d79ad7",
   "metadata": {},
   "outputs": [
    {
     "name": "stdout",
     "output_type": "stream",
     "text": [
      "      price  area  bedrooms  bathrooms  stories mainroad guestroom basement  \\\n",
      "0  13300000  7420         4          2        3      yes        no       no   \n",
      "1  12250000  8960         4          4        4      yes        no       no   \n",
      "2  12250000  9960         3          2        2      yes        no      yes   \n",
      "3  12215000  7500         4          2        2      yes        no      yes   \n",
      "4  11410000  7420         4          1        2      yes       yes      yes   \n",
      "\n",
      "   parking  furnishingstatus  hotwaterheating_no  hotwaterheating_yes  \\\n",
      "0        2                 0                True                False   \n",
      "1        3                 0                True                False   \n",
      "2        2                 1                True                False   \n",
      "3        3                 0                True                False   \n",
      "4        2                 0                True                False   \n",
      "\n",
      "   airconditioning_no  airconditioning_yes  prefarea_no  prefarea_yes  \n",
      "0               False                 True        False          True  \n",
      "1               False                 True         True         False  \n",
      "2                True                False        False          True  \n",
      "3               False                 True        False          True  \n",
      "4               False                 True         True         False  \n"
     ]
    }
   ],
   "source": [
    "import pandas as pd\n",
    "from sklearn.preprocessing import LabelEncoder\n",
    "\n",
    "# Load dataset\n",
    "df = pd.read_csv('Housing.csv')  # Replace with your file\n",
    "\n",
    "# Encode categorical columns (e.g., furnishingstatus)\n",
    "le = LabelEncoder()\n",
    "df['furnishingstatus'] = le.fit_transform(df['furnishingstatus'])\n",
    "\n",
    "# One-hot encode other categorical columns (if needed)\n",
    "df = pd.get_dummies(df, columns=['hotwaterheating', 'airconditioning', 'prefarea', ])\n",
    "\n",
    "\n",
    "# Check processed data\n",
    "print(df.head())"
   ]
  },
  {
   "cell_type": "code",
   "execution_count": null,
   "id": "ddf771ee",
   "metadata": {},
   "outputs": [],
   "source": [
    "\n",
    "from sklearn.model_selection import train_test_split\n",
    "\n",
    "X = df.drop('price', axis=1)  \n",
    "y = df['price']  \n",
    "\n",
    "X_train, X_test, y_train, y_test = train_test_split(X, y, test_size=0.2, random_state=42)"
   ]
  },
  {
   "cell_type": "code",
   "execution_count": 14,
   "id": "dc94aa3b",
   "metadata": {},
   "outputs": [],
   "source": [
    "binary_cols = ['mainroad', 'guestroom', 'basement']\n",
    "\n",
    "# Convert 'yes' to 1, 'no' to 0\n",
    "for col in binary_cols:\n",
    "    X_train[col] = X_train[col].map({'yes': 1, 'no': 0})\n",
    "    X_test[col] = X_test[col].map({'yes': 1, 'no': 0})\n"
   ]
  },
  {
   "cell_type": "code",
   "execution_count": 16,
   "id": "82c8e771",
   "metadata": {},
   "outputs": [
    {
     "name": "stdout",
     "output_type": "stream",
     "text": [
      "Mean Absolute Error: ₹1,017,862.01\n"
     ]
    }
   ],
   "source": [
    "from sklearn.ensemble import RandomForestRegressor\n",
    "from sklearn.metrics import mean_absolute_error\n",
    "\n",
    "model = RandomForestRegressor()\n",
    "model.fit(X_train, y_train)\n",
    "predictions = model.predict(X_test)\n",
    "\n",
    "mae = mean_absolute_error(y_test, predictions)\n",
    "print(f\"Mean Absolute Error: ₹{mae:,.2f}\")"
   ]
  },
  {
   "cell_type": "code",
   "execution_count": 18,
   "id": "1c585fc0",
   "metadata": {},
   "outputs": [
    {
     "data": {
      "text/plain": [
       "['model_columns.pkl']"
      ]
     },
     "execution_count": 18,
     "metadata": {},
     "output_type": "execute_result"
    }
   ],
   "source": [
    "import joblib\n",
    "\n",
    "# Save model\n",
    "joblib.dump(model, 'model.pkl')\n",
    "\n",
    "# Save columns\n",
    "joblib.dump(X_train.columns.tolist(), 'model_columns.pkl')\n"
   ]
  },
  {
   "cell_type": "code",
   "execution_count": null,
   "id": "e2170ac9",
   "metadata": {},
   "outputs": [],
   "source": []
  }
 ],
 "metadata": {
  "kernelspec": {
   "display_name": "Python 3",
   "language": "python",
   "name": "python3"
  },
  "language_info": {
   "codemirror_mode": {
    "name": "ipython",
    "version": 3
   },
   "file_extension": ".py",
   "mimetype": "text/x-python",
   "name": "python",
   "nbconvert_exporter": "python",
   "pygments_lexer": "ipython3",
   "version": "3.13.1"
  }
 },
 "nbformat": 4,
 "nbformat_minor": 5
}
